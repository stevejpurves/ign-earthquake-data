{
 "cells": [
  {
   "cell_type": "markdown",
   "id": "ff1f0113-332c-4578-9514-28fc73641218",
   "metadata": {
    "iooxa": {
     "id": {
      "block": "XuENxoJA77pKqDJYbghP",
      "project": "1Bk7uPlcMuaTyKEshESj",
      "version": 1
     }
    },
    "tags": []
   },
   "source": [
    "## Estimating Fissue Length\n",
    "\n",
    "Using mapping data from the Compernicus Emergency Response service. Vector layers taken from [here](https://emergency.copernicus.eu/mapping/list-of-components/EMSR546) and loaded as GeoJson"
   ]
  },
  {
   "cell_type": "code",
   "execution_count": 1,
   "id": "bb4f5509-2cda-4942-bc3d-5fd0129bd485",
   "metadata": {
    "iooxa": {
     "id": {
      "block": "wVrNG9ijIgUlNIajjPgy",
      "project": "1Bk7uPlcMuaTyKEshESj",
      "version": 1
     },
     "outputId": {
      "block": "srUx5mZDnn2M6baxBgrP",
      "project": "1Bk7uPlcMuaTyKEshESj",
      "version": 1
     }
    },
    "tags": []
   },
   "outputs": [
    {
     "name": "stdout",
     "output_type": "stream",
     "text": [
      "Loaded 63 packages\n"
     ]
    }
   ],
   "source": [
    "import glob\n",
    "import zipfile\n",
    "import re\n",
    "from os import path\n",
    "\n",
    "\n",
    "files = glob.glob('../vectors/*.zip')\n",
    "items = []\n",
    "for file in files:\n",
    "    with zipfile.ZipFile(file, 'r') as zip_ref:\n",
    "        zip_ref.extractall('shapes/')\n",
    "    result = re.search(r'EMSR546_AOI01_GRA_MONIT(\\d+)_', file)\n",
    "    result.group(1)\n",
    "    items.append(dict(index=int(result.group(1)), name=path.basename(file)[:-4]))\n",
    "    \n",
    "items = sorted(items, key=lambda x: x['index'])\n",
    "items[0]['name'] = items[0]['name'].replace('MONIT00', 'PRODUCT')\n",
    "print(f\"Loaded {len(items)} packages\")"
   ]
  },
  {
   "cell_type": "code",
   "execution_count": 2,
   "id": "6b01dbd7-35b5-4b0d-a562-353569f09a6a",
   "metadata": {
    "iooxa": {
     "id": {
      "block": "pVrOxbcLhuQ0WNqs6506",
      "project": "1Bk7uPlcMuaTyKEshESj",
      "version": 1
     },
     "outputId": {
      "block": "4j4HLuFzQsQLdBRn57gI",
      "project": "1Bk7uPlcMuaTyKEshESj",
      "version": 1
     }
    }
   },
   "outputs": [
    {
     "name": "stdout",
     "output_type": "stream",
     "text": [
      "Loaded 63 packages\n",
      "{'index': 0, 'filename': 'shapes/EMSR546_AOI01_GRA_PRODUCT_observedEventP_r1_v1.json'}\n"
     ]
    }
   ],
   "source": [
    "geojson_files = glob.glob('shapes/*observedEventP*.json')\n",
    "\n",
    "items = []\n",
    "for file in geojson_files:\n",
    "    if re.search('PRODUCT', file):\n",
    "        items.append(dict(index=0, filename=file))\n",
    "    else:\n",
    "        result = re.search(r'EMSR546_AOI01_GRA_MONIT(\\d+)_', file)\n",
    "        result.group(1)\n",
    "        items.append(dict(index=int(result.group(1)), filename=file))\n",
    "\n",
    "items = sorted(items, key=lambda x: x['index'])\n",
    "print(f\"Loaded {len(items)} packages\")\n",
    "print(items[0])"
   ]
  },
  {
   "cell_type": "code",
   "execution_count": 3,
   "id": "1cf2187a-5c8e-434a-81e5-a0197f6060cd",
   "metadata": {
    "iooxa": {
     "id": {
      "block": "8E6sENNaruXduPRJwqR7",
      "project": "1Bk7uPlcMuaTyKEshESj",
      "version": 1
     },
     "outputId": null
    }
   },
   "outputs": [],
   "source": [
    "import json\n",
    "\n",
    "def load_geojson(filename: str):\n",
    "    with open(filename, 'r') as f:\n",
    "        data = json.load(f)\n",
    "    with open(filename[:-5]+'.xml', 'r') as xml:\n",
    "        xml_str = xml.read();\n",
    "        result = re.search(r'<gco:Date>(.*)</gco:Date>', xml_str)\n",
    "    data['name'] = result.group(1)\n",
    "    return data\n",
    "                \n",
    "items_json = [dict(geo=load_geojson(item['filename']), **item) for item in items];\n",
    "dataset = dict(packages=items_json)"
   ]
  },
  {
   "cell_type": "code",
   "execution_count": 4,
   "id": "b90ba926-7632-4377-914f-8bdbb51a889e",
   "metadata": {
    "iooxa": {
     "id": {
      "block": "3qBzXrUnZ0vZVs4dTwgv",
      "project": "1Bk7uPlcMuaTyKEshESj",
      "version": 1
     },
     "outputId": null
    }
   },
   "outputs": [],
   "source": [
    "with open('alldata.json','w') as f:\n",
    "    json.dump(dataset,f)"
   ]
  },
  {
   "cell_type": "code",
   "execution_count": 9,
   "id": "9fc28f07-3eb2-40ef-8c12-57e035827e1a",
   "metadata": {
    "iooxa": {
     "id": {
      "block": "xcogUBDGUFMlzgPtxVb0",
      "project": "1Bk7uPlcMuaTyKEshESj",
      "version": 1
     },
     "outputId": null
    }
   },
   "outputs": [],
   "source": [
    "from ipyleaflet import GeoJSON\n",
    "from ipywidgets import Layout, Label\n",
    "\n",
    "label = Label(layout=Layout(width=\"100%\"))\n",
    "label.value = 'Empty'\n",
    "\n",
    "def hover_handler(event=None, feature=None, id=None, properties=None):\n",
    "    label.value = f\"{properties['obj_desc']} {feature['geometry']['coordinates']}\"\n",
    "\n",
    "def to_geojson(data, color='black'):\n",
    "    layer = GeoJSON(\n",
    "        name=data['name'],\n",
    "        data=data,\n",
    "        style={\n",
    "            'color':color, 'opacity': 1,'fillOpacity': 0.5, 'weight': 1\n",
    "        },\n",
    "        point_style={\n",
    "            'type':'circle',\n",
    "            'radius':7\n",
    "        },\n",
    "        hover_style={\n",
    "            'color': 'red', 'dashArray': '0', 'fillOpacity': 0.5\n",
    "        },\n",
    "    )\n",
    "    layer.on_hover(hover_handler)\n",
    "    return layer\n",
    "\n",
    "vents_layers = { item['geo']['name']: item['geo'] for item in items_json }"
   ]
  },
  {
   "cell_type": "code",
   "execution_count": 23,
   "id": "08da2e83-1bf8-43df-9a37-e476eda6a32e",
   "metadata": {
    "iooxa": {
     "id": {
      "block": "7x84cllrbwC4vaUaOKXv",
      "project": "1Bk7uPlcMuaTyKEshESj",
      "version": 1
     },
     "outputId": {
      "block": "71RUUQtaff7HZYS1t9Ub",
      "project": "1Bk7uPlcMuaTyKEshESj",
      "version": 1
     }
    }
   },
   "outputs": [
    {
     "data": {
      "application/vnd.jupyter.widget-view+json": {
       "model_id": "d8524558b50c44b59d61c9efa7707045",
       "version_major": 2,
       "version_minor": 0
      },
      "text/plain": [
       "VBox(children=(Map(center=[28.612915, -17.866048], controls=(ZoomControl(options=['position', 'zoom_in_text', …"
      ]
     },
     "execution_count": 23,
     "metadata": {},
     "output_type": "execute_result"
    }
   ],
   "source": [
    "from ipyleaflet import Map, GeoData, basemaps, LayersControl,MeasureControl,FullScreenControl\n",
    "from ipywidgets import Layout, Label, VBox\n",
    "import geopandas as gpd\n",
    "\n",
    "m = Map(center=(28.612915,-17.866048), zoom=16, height=500, layout=Layout(height='800px'))\n",
    "\n",
    "# m.add_layer(to_geojson(vents_layers['2021-12-18'], 'black'))\n",
    "# m.add_layer(to_geojson(vents_layers['2021-12-02'], 'green'))\n",
    "m.add_layer(to_geojson(vents_layers['2021-11-25'], 'blue'))\n",
    "# m.add_layer(to_geojson(vents_layers['2021-10-11'], 'red'))\n",
    "\n",
    "\n",
    "measure = MeasureControl(\n",
    "    position='bottomleft',\n",
    "    active_color = 'orange',\n",
    "    primary_length_unit = 'kilometers'\n",
    ")\n",
    "\n",
    "m.add_control(measure)\n",
    "m.add_control(LayersControl())\n",
    "m.add_control(FullScreenControl())\n",
    "\n",
    "m\n",
    "\n",
    "VBox([m, label])"
   ]
  },
  {
   "cell_type": "code",
   "execution_count": 16,
   "id": "045cc466-76ab-4564-bc4b-c6774952f092",
   "metadata": {
    "iooxa": {
     "id": {
      "block": "jWi7GDa6BcRSCUmXHeNq",
      "project": "1Bk7uPlcMuaTyKEshESj",
      "version": 1
     },
     "outputId": {
      "block": "bLipB0Bdka1lXfvZVXao",
      "project": "1Bk7uPlcMuaTyKEshESj",
      "version": 1
     }
    }
   },
   "outputs": [
    {
     "name": "stdout",
     "output_type": "stream",
     "text": [
      "Red a-b 306m\n",
      "Blue a-b 675m\n",
      "Green a-b 800m\n",
      "Black a-b 804m\n",
      "Black a-c 680m\n"
     ]
    }
   ],
   "source": [
    "import numpy as np\n",
    "import haversine as hs\n",
    "\n",
    "def dist(x,y):   \n",
    "    return np.sqrt(np.sum((np.asarray(x)-np.asarray(y))**2))\n",
    "\n",
    "\n",
    "red_a = (-17.869579, 28.615856)\n",
    "red_b = (-17.867162, 28.614473)\n",
    "\n",
    "red_ab = 1000*hs.haversine(red_a, red_b)\n",
    "print(f\"Red a-b {red_ab:.0f}m\")\n",
    "\n",
    "\n",
    "blue_a = [-17.86979, 28.616085]\n",
    "blue_b = [-17.864527, 28.612911]\n",
    "\n",
    "blue_ab = 1000*hs.haversine(blue_a, blue_b)\n",
    "print(f\"Blue a-b {blue_ab:.0f}m\")\n",
    "\n",
    "green_a = [-17.871064, 28.616063]\n",
    "green_b = [-17.864527, 28.612911]\n",
    "green_ab = 1000*hs.haversine(green_a, green_b)\n",
    "print(f\"Green a-b {green_ab:.0f}m\")\n",
    "\n",
    "\n",
    "black_a = [-17.87063, 28.616106]\n",
    "black_b = [-17.864119, 28.612807]\n",
    "black_c = [-17.865459, 28.612676]\n",
    "\n",
    "black_ab = 1000*hs.haversine(black_a, black_b)\n",
    "print(f\"Black a-b {black_ab:.0f}m\")\n",
    "black_ac = 1000*hs.haversine(black_a, black_c)\n",
    "print(f\"Black a-c {black_ac:.0f}m\")\n"
   ]
  },
  {
   "cell_type": "code",
   "execution_count": null,
   "id": "5d3f9cef-7bd5-4ce6-a560-01405dda883b",
   "metadata": {},
   "outputs": [],
   "source": []
  }
 ],
 "metadata": {
  "iooxa": {
   "id": {
    "block": "DXSdGGDSU9Q2Jlc3twNR",
    "project": "1Bk7uPlcMuaTyKEshESj",
    "version": 1
   }
  },
  "kernelspec": {
   "display_name": "Python 3 (ipykernel)",
   "language": "python",
   "name": "python3"
  },
  "language_info": {
   "codemirror_mode": {
    "name": "ipython",
    "version": 3
   },
   "file_extension": ".py",
   "mimetype": "text/x-python",
   "name": "python",
   "nbconvert_exporter": "python",
   "pygments_lexer": "ipython3",
   "version": "3.10.2"
  }
 },
 "nbformat": 4,
 "nbformat_minor": 5
}

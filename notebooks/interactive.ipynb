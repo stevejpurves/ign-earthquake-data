{
 "cells": [
  {
   "cell_type": "markdown",
   "id": "a9df45ee",
   "metadata": {
    "iooxa": null
   },
   "source": [
    "## Visualization of La Palma Earthquake Data\n",
    "\n",
    "Using the subset of IGN data specific to La Palma. This subset was prepared using `screening.ipynb` and saved to `lapalma.csv`."
   ]
  },
  {
   "cell_type": "code",
   "execution_count": 10,
   "id": "f26ab3ae",
   "metadata": {
    "iooxa": null
   },
   "outputs": [],
   "source": [
    "import pandas as pd\n",
    "import matplotlib.pyplot as plt\n",
    "import seaborn as sns\n",
    "import numpy as np\n",
    "sns.set_theme(style=\"whitegrid\")"
   ]
  },
  {
   "cell_type": "code",
   "execution_count": 11,
   "id": "9b6b890b",
   "metadata": {
    "iooxa": null
   },
   "outputs": [
    {
     "data": {
      "text/html": [
       "<div>\n",
       "<style scoped>\n",
       "    .dataframe tbody tr th:only-of-type {\n",
       "        vertical-align: middle;\n",
       "    }\n",
       "\n",
       "    .dataframe tbody tr th {\n",
       "        vertical-align: top;\n",
       "    }\n",
       "\n",
       "    .dataframe thead th {\n",
       "        text-align: right;\n",
       "    }\n",
       "</style>\n",
       "<table border=\"1\" class=\"dataframe\">\n",
       "  <thead>\n",
       "    <tr style=\"text-align: right;\">\n",
       "      <th></th>\n",
       "      <th>Event</th>\n",
       "      <th>Date</th>\n",
       "      <th>UTC time</th>\n",
       "      <th>Local time(*)</th>\n",
       "      <th>Latitude</th>\n",
       "      <th>Longitude</th>\n",
       "      <th>Depth(km)</th>\n",
       "      <th>Magnitude</th>\n",
       "      <th>Mag. type</th>\n",
       "      <th>Max. int</th>\n",
       "      <th>Region</th>\n",
       "      <th>More Info</th>\n",
       "    </tr>\n",
       "  </thead>\n",
       "  <tbody>\n",
       "    <tr>\n",
       "      <th>0</th>\n",
       "      <td>es2021wocei</td>\n",
       "      <td>2021-11-17</td>\n",
       "      <td>17:08:10</td>\n",
       "      <td>17:08:10</td>\n",
       "      <td>28.5661</td>\n",
       "      <td>-17.8336</td>\n",
       "      <td>11.0</td>\n",
       "      <td>3.1</td>\n",
       "      <td>mbLg</td>\n",
       "      <td>NaN</td>\n",
       "      <td>SW VILLA DE MAZO.ILP</td>\n",
       "      <td>NaN</td>\n",
       "    </tr>\n",
       "    <tr>\n",
       "      <th>1</th>\n",
       "      <td>es2021wobpr</td>\n",
       "      <td>2021-11-17</td>\n",
       "      <td>16:50:53</td>\n",
       "      <td>16:50:53</td>\n",
       "      <td>28.6058</td>\n",
       "      <td>-17.8549</td>\n",
       "      <td>37.0</td>\n",
       "      <td>2.9</td>\n",
       "      <td>mbLg</td>\n",
       "      <td>NaN</td>\n",
       "      <td>SE EL PASO.ILP</td>\n",
       "      <td>NaN</td>\n",
       "    </tr>\n",
       "    <tr>\n",
       "      <th>2</th>\n",
       "      <td>es2021wobfz</td>\n",
       "      <td>2021-11-17</td>\n",
       "      <td>16:39:11</td>\n",
       "      <td>16:39:11</td>\n",
       "      <td>28.5619</td>\n",
       "      <td>-17.8304</td>\n",
       "      <td>12.0</td>\n",
       "      <td>2.8</td>\n",
       "      <td>mbLg</td>\n",
       "      <td>NaN</td>\n",
       "      <td>NE FUENCALIENTE DE LA PALMA.IL</td>\n",
       "      <td>NaN</td>\n",
       "    </tr>\n",
       "    <tr>\n",
       "      <th>3</th>\n",
       "      <td>es2021wobep</td>\n",
       "      <td>2021-11-17</td>\n",
       "      <td>16:38:12</td>\n",
       "      <td>16:38:12</td>\n",
       "      <td>28.5580</td>\n",
       "      <td>-17.8386</td>\n",
       "      <td>13.0</td>\n",
       "      <td>3.1</td>\n",
       "      <td>mbLg</td>\n",
       "      <td>NaN</td>\n",
       "      <td>NE FUENCALIENTE DE LA PALMA.IL</td>\n",
       "      <td>NaN</td>\n",
       "    </tr>\n",
       "    <tr>\n",
       "      <th>4</th>\n",
       "      <td>es2021woazj</td>\n",
       "      <td>2021-11-17</td>\n",
       "      <td>16:32:05</td>\n",
       "      <td>16:32:05</td>\n",
       "      <td>28.5542</td>\n",
       "      <td>-17.8353</td>\n",
       "      <td>14.0</td>\n",
       "      <td>3.0</td>\n",
       "      <td>mbLg</td>\n",
       "      <td>NaN</td>\n",
       "      <td>NE FUENCALIENTE DE LA PALMA.IL</td>\n",
       "      <td>NaN</td>\n",
       "    </tr>\n",
       "  </tbody>\n",
       "</table>\n",
       "</div>"
      ],
      "text/plain": [
       "         Event        Date  UTC time Local time(*)  Latitude  Longitude  \\\n",
       "0  es2021wocei  2021-11-17  17:08:10      17:08:10   28.5661   -17.8336   \n",
       "1  es2021wobpr  2021-11-17  16:50:53      16:50:53   28.6058   -17.8549   \n",
       "2  es2021wobfz  2021-11-17  16:39:11      16:39:11   28.5619   -17.8304   \n",
       "3  es2021wobep  2021-11-17  16:38:12      16:38:12   28.5580   -17.8386   \n",
       "4  es2021woazj  2021-11-17  16:32:05      16:32:05   28.5542   -17.8353   \n",
       "\n",
       "   Depth(km)  Magnitude Mag. type Max. int                          Region  \\\n",
       "0       11.0        3.1      mbLg      NaN            SW VILLA DE MAZO.ILP   \n",
       "1       37.0        2.9      mbLg      NaN                  SE EL PASO.ILP   \n",
       "2       12.0        2.8      mbLg      NaN  NE FUENCALIENTE DE LA PALMA.IL   \n",
       "3       13.0        3.1      mbLg      NaN  NE FUENCALIENTE DE LA PALMA.IL   \n",
       "4       14.0        3.0      mbLg      NaN  NE FUENCALIENTE DE LA PALMA.IL   \n",
       "\n",
       "   More Info  \n",
       "0        NaN  \n",
       "1        NaN  \n",
       "2        NaN  \n",
       "3        NaN  \n",
       "4        NaN  "
      ]
     },
     "execution_count": 11,
     "metadata": {},
     "output_type": "execute_result"
    }
   ],
   "source": [
    "df = pd.read_csv('./lapalma.csv')\n",
    "df.head()"
   ]
  },
  {
   "cell_type": "code",
   "execution_count": 12,
   "id": "78c42741",
   "metadata": {
    "iooxa": {
     "id": {
      "block": "TpHbIg1ifrpGJVOvPIyW",
      "project": "1Bk7uPlcMuaTyKEshESj",
      "version": 1
     },
     "outputId": {
      "block": "HNZJx0ZNjCJx2fJQg49O",
      "project": "1Bk7uPlcMuaTyKEshESj",
      "version": 1
     }
    }
   },
   "outputs": [
    {
     "data": {
      "text/html": [
       "<div>\n",
       "<style scoped>\n",
       "    .dataframe tbody tr th:only-of-type {\n",
       "        vertical-align: middle;\n",
       "    }\n",
       "\n",
       "    .dataframe tbody tr th {\n",
       "        vertical-align: top;\n",
       "    }\n",
       "\n",
       "    .dataframe thead th {\n",
       "        text-align: right;\n",
       "    }\n",
       "</style>\n",
       "<table border=\"1\" class=\"dataframe\">\n",
       "  <thead>\n",
       "    <tr style=\"text-align: right;\">\n",
       "      <th></th>\n",
       "      <th>Latitude</th>\n",
       "      <th>Longitude</th>\n",
       "      <th>Depth(km)</th>\n",
       "      <th>Magnitude</th>\n",
       "      <th>More Info</th>\n",
       "    </tr>\n",
       "  </thead>\n",
       "  <tbody>\n",
       "    <tr>\n",
       "      <th>count</th>\n",
       "      <td>6195.000000</td>\n",
       "      <td>6195.000000</td>\n",
       "      <td>6195.000000</td>\n",
       "      <td>6195.000000</td>\n",
       "      <td>0.0</td>\n",
       "    </tr>\n",
       "    <tr>\n",
       "      <th>mean</th>\n",
       "      <td>28.566620</td>\n",
       "      <td>-17.842178</td>\n",
       "      <td>12.900630</td>\n",
       "      <td>2.719435</td>\n",
       "      <td>NaN</td>\n",
       "    </tr>\n",
       "    <tr>\n",
       "      <th>std</th>\n",
       "      <td>0.015506</td>\n",
       "      <td>0.021570</td>\n",
       "      <td>7.297977</td>\n",
       "      <td>0.500897</td>\n",
       "      <td>NaN</td>\n",
       "    </tr>\n",
       "    <tr>\n",
       "      <th>min</th>\n",
       "      <td>28.477500</td>\n",
       "      <td>-17.969500</td>\n",
       "      <td>0.000000</td>\n",
       "      <td>1.500000</td>\n",
       "      <td>NaN</td>\n",
       "    </tr>\n",
       "    <tr>\n",
       "      <th>25%</th>\n",
       "      <td>28.558500</td>\n",
       "      <td>-17.848950</td>\n",
       "      <td>10.100000</td>\n",
       "      <td>2.500000</td>\n",
       "      <td>NaN</td>\n",
       "    </tr>\n",
       "    <tr>\n",
       "      <th>50%</th>\n",
       "      <td>28.563500</td>\n",
       "      <td>-17.838000</td>\n",
       "      <td>11.100000</td>\n",
       "      <td>2.700000</td>\n",
       "      <td>NaN</td>\n",
       "    </tr>\n",
       "    <tr>\n",
       "      <th>75%</th>\n",
       "      <td>28.570900</td>\n",
       "      <td>-17.830400</td>\n",
       "      <td>13.100000</td>\n",
       "      <td>3.000000</td>\n",
       "      <td>NaN</td>\n",
       "    </tr>\n",
       "    <tr>\n",
       "      <th>max</th>\n",
       "      <td>28.697000</td>\n",
       "      <td>-17.757000</td>\n",
       "      <td>42.200000</td>\n",
       "      <td>5.000000</td>\n",
       "      <td>NaN</td>\n",
       "    </tr>\n",
       "  </tbody>\n",
       "</table>\n",
       "</div>"
      ],
      "text/plain": [
       "          Latitude    Longitude    Depth(km)    Magnitude  More Info\n",
       "count  6195.000000  6195.000000  6195.000000  6195.000000        0.0\n",
       "mean     28.566620   -17.842178    12.900630     2.719435        NaN\n",
       "std       0.015506     0.021570     7.297977     0.500897        NaN\n",
       "min      28.477500   -17.969500     0.000000     1.500000        NaN\n",
       "25%      28.558500   -17.848950    10.100000     2.500000        NaN\n",
       "50%      28.563500   -17.838000    11.100000     2.700000        NaN\n",
       "75%      28.570900   -17.830400    13.100000     3.000000        NaN\n",
       "max      28.697000   -17.757000    42.200000     5.000000        NaN"
      ]
     },
     "execution_count": 12,
     "metadata": {},
     "output_type": "execute_result"
    }
   ],
   "source": [
    "df.describe()"
   ]
  },
  {
   "cell_type": "code",
   "execution_count": 13,
   "id": "f76c4ad0",
   "metadata": {
    "iooxa": {
     "id": {
      "block": "C2Vtka9NXOA1HTeqNA1J",
      "project": "1Bk7uPlcMuaTyKEshESj",
      "version": 1
     },
     "outputId": null
    }
   },
   "outputs": [],
   "source": [
    "df['Depth'] = 'Crustal (<20km)'\n",
    "df.loc[df['Depth(km)'] >= 20, 'Depth'] = 'Mantle (>20km)'"
   ]
  },
  {
   "cell_type": "code",
   "execution_count": null,
   "id": "f984ce59",
   "metadata": {
    "iooxa": null,
    "tags": []
   },
   "outputs": [],
   "source": []
  }
 ],
 "metadata": {
  "iooxa": null,
  "kernelspec": {
   "display_name": "Python 3",
   "language": "python",
   "name": "python3"
  },
  "language_info": {
   "codemirror_mode": {
    "name": "ipython",
    "version": 3
   },
   "file_extension": ".py",
   "mimetype": "text/x-python",
   "name": "python",
   "nbconvert_exporter": "python",
   "pygments_lexer": "ipython3",
   "version": "3.8.10"
  },
  "widgets": {
   "application/vnd.jupyter.widget-state+json": {
    "state": {},
    "version_major": 2,
    "version_minor": 0
   }
  }
 },
 "nbformat": 4,
 "nbformat_minor": 5
}
